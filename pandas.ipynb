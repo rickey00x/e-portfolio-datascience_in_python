{
 "cells": [
  {
   "cell_type": "code",
   "execution_count": 2,
   "metadata": {},
   "outputs": [],
   "source": [
    "import pandas as pd\n",
    "import matplotlib.pyplot as plt\n",
    "import os\n",
    "import glob\n"
   ]
  },
  {
   "cell_type": "code",
   "execution_count": 120,
   "metadata": {},
   "outputs": [],
   "source": [
    "\n",
    "os.chdir(\"C:/Users/norma/Documents/GitHub/Spotify_Fun_With_Data/Spotify_Eportfolio_Data\")\n",
    "\n",
    "extension = 'csv'\n",
    "all_filenames = [i for i in glob.glob('*.{}'.format(extension))]\n",
    "\n",
    "for f in all_filenames:\n",
    "    df = pd.read_csv(f)\n",
    "    df.columns = df.iloc[0] \n",
    "    df = df.iloc[1:]\n",
    "    df['Year'] = f[18:22]\n",
    "    df['Month'] = f[23:25]\n",
    "    df['Day'] = f[26:28]\n",
    "    df.to_csv(f, index=False, encoding='utf-8-sig')\n",
    "\n",
    "combined_csv = pd.concat([pd.read_csv(f) for f in all_filenames ])\n",
    "\n",
    "combined_csv.to_csv( \"combined_csv.csv\", index=False, encoding='utf-8-sig')"
   ]
  },
  {
   "cell_type": "code",
   "execution_count": 4,
   "metadata": {},
   "outputs": [
    {
     "data": {
      "text/html": [
       "<div>\n",
       "<style scoped>\n",
       "    .dataframe tbody tr th:only-of-type {\n",
       "        vertical-align: middle;\n",
       "    }\n",
       "\n",
       "    .dataframe tbody tr th {\n",
       "        vertical-align: top;\n",
       "    }\n",
       "\n",
       "    .dataframe thead th {\n",
       "        text-align: right;\n",
       "    }\n",
       "</style>\n",
       "<table border=\"1\" class=\"dataframe\">\n",
       "  <thead>\n",
       "    <tr style=\"text-align: right;\">\n",
       "      <th></th>\n",
       "      <th>Unnamed: 0</th>\n",
       "      <th>Unnamed: 1</th>\n",
       "      <th>Unnamed: 2</th>\n",
       "      <th>Note that these figures are generated using a formula that protects against any artificial inflation of chart positions.</th>\n",
       "      <th>Unnamed: 4</th>\n",
       "    </tr>\n",
       "  </thead>\n",
       "  <tbody>\n",
       "    <tr>\n",
       "      <th>0</th>\n",
       "      <td>Position</td>\n",
       "      <td>Track Name</td>\n",
       "      <td>Artist</td>\n",
       "      <td>Streams</td>\n",
       "      <td>URL</td>\n",
       "    </tr>\n",
       "    <tr>\n",
       "      <th>1</th>\n",
       "      <td>1</td>\n",
       "      <td>Angst</td>\n",
       "      <td>Apache 207</td>\n",
       "      <td>729660</td>\n",
       "      <td>https://open.spotify.com/track/5yUzqd3H7cmJ1no...</td>\n",
       "    </tr>\n",
       "    <tr>\n",
       "      <th>2</th>\n",
       "      <td>2</td>\n",
       "      <td>7</td>\n",
       "      <td>Ufo361</td>\n",
       "      <td>647374</td>\n",
       "      <td>https://open.spotify.com/track/3ipliatTDndCmnY...</td>\n",
       "    </tr>\n",
       "    <tr>\n",
       "      <th>3</th>\n",
       "      <td>3</td>\n",
       "      <td>Lost (feat. TOPIC42)</td>\n",
       "      <td>Samra</td>\n",
       "      <td>264771</td>\n",
       "      <td>https://open.spotify.com/track/19LqJBBfd73oeBc...</td>\n",
       "    </tr>\n",
       "    <tr>\n",
       "      <th>4</th>\n",
       "      <td>4</td>\n",
       "      <td>Mood (feat. iann dior)</td>\n",
       "      <td>24kGoldn</td>\n",
       "      <td>240909</td>\n",
       "      <td>https://open.spotify.com/track/3tjFYV6RSFtuktY...</td>\n",
       "    </tr>\n",
       "    <tr>\n",
       "      <th>...</th>\n",
       "      <td>...</td>\n",
       "      <td>...</td>\n",
       "      <td>...</td>\n",
       "      <td>...</td>\n",
       "      <td>...</td>\n",
       "    </tr>\n",
       "    <tr>\n",
       "      <th>196</th>\n",
       "      <td>196</td>\n",
       "      <td>Billie Jean</td>\n",
       "      <td>Michael Jackson</td>\n",
       "      <td>49928</td>\n",
       "      <td>https://open.spotify.com/track/5ChkMS8OtdzJeqy...</td>\n",
       "    </tr>\n",
       "    <tr>\n",
       "      <th>197</th>\n",
       "      <td>197</td>\n",
       "      <td>Everybody (Backstreet's Back) - Radio Edit</td>\n",
       "      <td>Backstreet Boys</td>\n",
       "      <td>49928</td>\n",
       "      <td>https://open.spotify.com/track/1di1BEgJYzPvXUu...</td>\n",
       "    </tr>\n",
       "    <tr>\n",
       "      <th>198</th>\n",
       "      <td>198</td>\n",
       "      <td>Emotions</td>\n",
       "      <td>Ufo361</td>\n",
       "      <td>49765</td>\n",
       "      <td>https://open.spotify.com/track/6lU4BQWZomCWRfK...</td>\n",
       "    </tr>\n",
       "    <tr>\n",
       "      <th>199</th>\n",
       "      <td>199</td>\n",
       "      <td>Blueberry Faygo</td>\n",
       "      <td>Lil Mosey</td>\n",
       "      <td>49325</td>\n",
       "      <td>https://open.spotify.com/track/22LAwLoDA5b4AaG...</td>\n",
       "    </tr>\n",
       "    <tr>\n",
       "      <th>200</th>\n",
       "      <td>200</td>\n",
       "      <td>Put Your Records On</td>\n",
       "      <td>Ritt Momney</td>\n",
       "      <td>49205</td>\n",
       "      <td>https://open.spotify.com/track/6AGOKlMZWLCaEJG...</td>\n",
       "    </tr>\n",
       "  </tbody>\n",
       "</table>\n",
       "<p>201 rows × 5 columns</p>\n",
       "</div>"
      ],
      "text/plain": [
       "    Unnamed: 0                                  Unnamed: 1       Unnamed: 2  \\\n",
       "0     Position                                  Track Name           Artist   \n",
       "1            1                                       Angst       Apache 207   \n",
       "2            2                                           7           Ufo361   \n",
       "3            3                        Lost (feat. TOPIC42)            Samra   \n",
       "4            4                      Mood (feat. iann dior)         24kGoldn   \n",
       "..         ...                                         ...              ...   \n",
       "196        196                                 Billie Jean  Michael Jackson   \n",
       "197        197  Everybody (Backstreet's Back) - Radio Edit  Backstreet Boys   \n",
       "198        198                                    Emotions           Ufo361   \n",
       "199        199                             Blueberry Faygo        Lil Mosey   \n",
       "200        200                         Put Your Records On      Ritt Momney   \n",
       "\n",
       "    Note that these figures are generated using a formula that protects against any artificial inflation of chart positions.  \\\n",
       "0                                              Streams                                                                         \n",
       "1                                               729660                                                                         \n",
       "2                                               647374                                                                         \n",
       "3                                               264771                                                                         \n",
       "4                                               240909                                                                         \n",
       "..                                                 ...                                                                         \n",
       "196                                              49928                                                                         \n",
       "197                                              49928                                                                         \n",
       "198                                              49765                                                                         \n",
       "199                                              49325                                                                         \n",
       "200                                              49205                                                                         \n",
       "\n",
       "                                            Unnamed: 4  \n",
       "0                                                  URL  \n",
       "1    https://open.spotify.com/track/5yUzqd3H7cmJ1no...  \n",
       "2    https://open.spotify.com/track/3ipliatTDndCmnY...  \n",
       "3    https://open.spotify.com/track/19LqJBBfd73oeBc...  \n",
       "4    https://open.spotify.com/track/3tjFYV6RSFtuktY...  \n",
       "..                                                 ...  \n",
       "196  https://open.spotify.com/track/5ChkMS8OtdzJeqy...  \n",
       "197  https://open.spotify.com/track/1di1BEgJYzPvXUu...  \n",
       "198  https://open.spotify.com/track/6lU4BQWZomCWRfK...  \n",
       "199  https://open.spotify.com/track/22LAwLoDA5b4AaG...  \n",
       "200  https://open.spotify.com/track/6AGOKlMZWLCaEJG...  \n",
       "\n",
       "[201 rows x 5 columns]"
      ]
     },
     "execution_count": 4,
     "metadata": {},
     "output_type": "execute_result"
    }
   ],
   "source": [
    "pd.read_csv('Spotify_Eportfolio_Data/regional-de-daily-2021-01-01.csv')"
   ]
  },
  {
   "cell_type": "code",
   "execution_count": null,
   "metadata": {},
   "outputs": [],
   "source": [
    "df = pd.read_csv('combined_csv.csv')"
   ]
  },
  {
   "cell_type": "code",
   "execution_count": null,
   "metadata": {},
   "outputs": [],
   "source": [
    "df.head(10)"
   ]
  },
  {
   "cell_type": "code",
   "execution_count": null,
   "metadata": {},
   "outputs": [],
   "source": [
    "df.tail()"
   ]
  },
  {
   "cell_type": "code",
   "execution_count": null,
   "metadata": {},
   "outputs": [],
   "source": [
    "df.drop(['URL'], axis=1)"
   ]
  },
  {
   "cell_type": "code",
   "execution_count": null,
   "metadata": {},
   "outputs": [],
   "source": [
    "df2 = pd.DataFrame(pd.to_datetime(df[['Year','Month','Day']]), columns=['Date'])\n",
    "df2"
   ]
  },
  {
   "cell_type": "code",
   "execution_count": null,
   "metadata": {},
   "outputs": [],
   "source": [
    "df = pd.concat([df,df2],axis=1)\n",
    "df.head(5)"
   ]
  },
  {
   "cell_type": "code",
   "execution_count": null,
   "metadata": {},
   "outputs": [],
   "source": [
    "artist = pd.unique(df['Artist'].values)\n",
    "print(artist)\n"
   ]
  },
  {
   "cell_type": "code",
   "execution_count": null,
   "metadata": {},
   "outputs": [],
   "source": [
    "df['Artist'].value_counts()"
   ]
  },
  {
   "cell_type": "code",
   "execution_count": null,
   "metadata": {},
   "outputs": [],
   "source": [
    "df['Streams'].sum()"
   ]
  },
  {
   "cell_type": "code",
   "execution_count": null,
   "metadata": {},
   "outputs": [],
   "source": [
    "print(df.loc[df['Streams'].idxmax()])"
   ]
  },
  {
   "cell_type": "code",
   "execution_count": null,
   "metadata": {},
   "outputs": [],
   "source": [
    "print(df.loc[df['Streams'].idxmin()])"
   ]
  },
  {
   "cell_type": "code",
   "execution_count": null,
   "metadata": {},
   "outputs": [],
   "source": [
    "df3 = pd.DataFrame(df.loc[df['Position'] == 1]).groupby('Artist')['Position'].count()\n",
    "df3.head(10)"
   ]
  },
  {
   "cell_type": "code",
   "execution_count": null,
   "metadata": {},
   "outputs": [],
   "source": [
    "for f in artist:\n",
    "    print(str(f)+':')\n",
    "    print(len(df[(df['Artist'] == f ) & (df['Position'] == 1)]))"
   ]
  },
  {
   "cell_type": "code",
   "execution_count": null,
   "metadata": {},
   "outputs": [],
   "source": [
    "print(df3.sort_values(ascending=False, inplace=True))"
   ]
  },
  {
   "cell_type": "code",
   "execution_count": null,
   "metadata": {},
   "outputs": [],
   "source": [
    "df3"
   ]
  },
  {
   "cell_type": "code",
   "execution_count": null,
   "metadata": {},
   "outputs": [],
   "source": [
    "df3.plot(kind='bar')"
   ]
  },
  {
   "cell_type": "code",
   "execution_count": null,
   "metadata": {},
   "outputs": [],
   "source": [
    "df[\"Streams\"].describe().apply(lambda x: format(x, 'f'))"
   ]
  },
  {
   "cell_type": "code",
   "execution_count": null,
   "metadata": {},
   "outputs": [],
   "source": [
    "\n",
    "pd.Series(df.groupby('Date')['Streams'].sum())\n",
    "    \n",
    "    \n"
   ]
  },
  {
   "cell_type": "code",
   "execution_count": null,
   "metadata": {},
   "outputs": [],
   "source": [
    "\n",
    "df4=pd.DataFrame(df.groupby('Date')['Streams'].sum())\n",
    "fig, ax = plt.subplots()\n",
    "df4['Date'] = df4.index\n",
    "df4 = df4.reset_index(drop=True)\n",
    "ax.bar(df4['Date'], df4['Streams'])\n",
    "ax.set( xlabel='Date', ylabel='Streams', title='Streams by Date' )\n",
    "plt.show()"
   ]
  },
  {
   "cell_type": "code",
   "execution_count": null,
   "metadata": {},
   "outputs": [],
   "source": [
    "df6 = pd.DataFrame(df.groupby(['Artist'])['Streams'].sum())\n",
    "df6.sort_values(by='Streams', ascending=False)\n",
    "\n"
   ]
  }
 ],
 "metadata": {
  "interpreter": {
   "hash": "2be5faf79681da6f2a61fdfdd5405d65d042280f7fba6178067603e3a2925119"
  },
  "kernelspec": {
   "display_name": "Python 3.10.2 64-bit (system)",
   "language": "python",
   "name": "python3"
  },
  "language_info": {
   "codemirror_mode": {
    "name": "ipython",
    "version": 3
   },
   "file_extension": ".py",
   "mimetype": "text/x-python",
   "name": "python",
   "nbconvert_exporter": "python",
   "pygments_lexer": "ipython3",
   "version": "3.10.2"
  },
  "orig_nbformat": 4
 },
 "nbformat": 4,
 "nbformat_minor": 2
}
